{
 "cells": [
  {
   "cell_type": "code",
   "execution_count": 2,
   "metadata": {
    "collapsed": true,
    "pycharm": {
     "name": "#%%\n"
    }
   },
   "outputs": [],
   "source": [
    "import numpy as np\n",
    "ai = np.array([[1, 2, 3], [4, 5, 6], [7, 8, 10], [-2 ,-5 ,6]])"
   ]
  },
  {
   "cell_type": "code",
   "execution_count": 30,
   "outputs": [],
   "source": [
    "\n",
    "dim = ai.shape[1]  # Dimension of the matrix X\n",
    "X = np.eye(dim)  # Initial guess for X\n",
    "X = np.random.uniform(-1, 1 , dim **2).reshape(dim, dim)\n",
    "X = np.linalg.svd(X)[0]\n",
    "X = X @ np.diag([1, 2, 3]) @ X.T"
   ],
   "metadata": {
    "collapsed": false,
    "pycharm": {
     "name": "#%%\n"
    }
   }
  },
  {
   "cell_type": "code",
   "execution_count": 63,
   "outputs": [
    {
     "data": {
      "text/plain": "(array([[[ 2.50490820e+01,  5.00981639e+01,  7.51472459e+01],\n         [ 5.00981639e+01,  1.00196328e+02,  1.50294492e+02],\n         [ 7.51472459e+01,  1.50294492e+02,  2.25441738e+02]],\n \n        [[ 2.38127002e+03,  2.97658752e+03,  3.57190503e+03],\n         [ 2.97658752e+03,  3.72073440e+03,  4.46488129e+03],\n         [ 3.57190503e+03,  4.46488129e+03,  5.35785754e+03]],\n \n        [[ 2.07388419e+04,  2.37015336e+04,  2.96269170e+04],\n         [ 2.37015336e+04,  2.70874670e+04,  3.38593337e+04],\n         [ 2.96269170e+04,  3.38593337e+04,  4.23241671e+04]],\n \n        [[ 4.00002431e+02,  1.00000608e+03, -1.20000729e+03],\n         [ 1.00000608e+03,  2.50001520e+03, -3.00001824e+03],\n         [-1.20000729e+03, -3.00001824e+03,  3.60002188e+03]]]),\n array([ 25.04908197, 148.82937618, 423.24167136, 100.00060787]))"
     },
     "execution_count": 63,
     "metadata": {},
     "output_type": "execute_result"
    }
   ],
   "source": [
    "def constraint_objective(X,points):\n",
    "    outer_products = np.array([np.outer(point,point) for point in points])\n",
    "    # return np.sum(outer_products,axis=0)\n",
    "    dim = ai.shape[1]\n",
    "    val = np.array([a.T@X@a -1 for a in points])\n",
    "    gradients = outer_products * np.broadcast_to(val[:,np.newaxis,np.newaxis],(points.shape[0],dim,dim))\n",
    "    return np.sum(gradients,axis=0)\n",
    "constraint_objective(X,ai)"
   ],
   "metadata": {
    "collapsed": false,
    "pycharm": {
     "name": "#%%\n"
    }
   }
  },
  {
   "cell_type": "code",
   "execution_count": 39,
   "outputs": [
    {
     "data": {
      "text/plain": "(array([1., 2., 3.]),\n array([[ 0.04701747, -0.06974226, -0.99645641],\n        [ 0.99570616,  0.08290659,  0.04117941],\n        [-0.07974086,  0.99411393, -0.07334086]]))"
     },
     "execution_count": 39,
     "metadata": {},
     "output_type": "execute_result"
    }
   ],
   "source": [],
   "metadata": {
    "collapsed": false,
    "pycharm": {
     "name": "#%%\n"
    }
   }
  }
 ],
 "metadata": {
  "kernelspec": {
   "display_name": "Python 3",
   "language": "python",
   "name": "python3"
  },
  "language_info": {
   "codemirror_mode": {
    "name": "ipython",
    "version": 2
   },
   "file_extension": ".py",
   "mimetype": "text/x-python",
   "name": "python",
   "nbconvert_exporter": "python",
   "pygments_lexer": "ipython2",
   "version": "2.7.6"
  }
 },
 "nbformat": 4,
 "nbformat_minor": 0
}